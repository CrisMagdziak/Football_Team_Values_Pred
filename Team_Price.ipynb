{
 "cells": [
  {
   "cell_type": "markdown",
   "metadata": {},
   "source": [
    "## 1. Understanding the business"
   ]
  },
  {
   "cell_type": "markdown",
   "metadata": {},
   "source": [
    "Dataset Description\n",
    "Overview\n",
    "The \"Predicting Football Team Valuations\" dataset is a meticulously curated collection of data points designed to aid in the analysis and modeling of football team prices across major European leagues. This dataset encompasses a variety of numeric and categorical features, providing a comprehensive view of the factors influencing the financial valuation of football teams.\n",
    "\n",
    "Content\n",
    "The dataset contains 50000 samples, each representing a unique football team. The data is split into 15 numeric columns, 10 categorical columns, and a target column representing the team's market price in billions of dollars. The target prices range from 0.5 billion to 5 billion dollars, reflecting realistic valuations seen in the football industry."
   ]
  },
  {
   "cell_type": "markdown",
   "metadata": {},
   "source": [
    "## 2. Data Working"
   ]
  },
  {
   "cell_type": "markdown",
   "metadata": {},
   "source": [
    "**Features**\n",
    "\n",
    "\n",
    "**Target Variable**\n",
    "- `Price`\n"
   ]
  },
  {
   "cell_type": "markdown",
   "metadata": {},
   "source": [
    "### 2.1 Imports"
   ]
  },
  {
   "cell_type": "code",
   "execution_count": 1,
   "metadata": {},
   "outputs": [],
   "source": [
    "# base imports\n",
    "import pandas as pd\n",
    "import numpy as np\n",
    "\n",
    "# visialization imports\n",
    "import matplotlib.pyplot as plt\n",
    "import seaborn as sns\n",
    "\n",
    "# warnings\n",
    "import warnings\n",
    "warnings.filterwarnings('ignore')"
   ]
  },
  {
   "cell_type": "markdown",
   "metadata": {},
   "source": [
    "### 2.2. Notebook Options"
   ]
  },
  {
   "cell_type": "code",
   "execution_count": null,
   "metadata": {},
   "outputs": [],
   "source": [
    "# Set table to show all columns\n",
    "pd.set_option('display.max_columns', None)\n",
    "\n",
    "# Seaborn Settings\n",
    "sns.set_theme(style=\"darkgrid\", palette=\"Dark2\")\n",
    "\n",
    "# Global Values\n",
    "SEED = 80\n"
   ]
  }
 ],
 "metadata": {
  "kernelspec": {
   "display_name": "Python 3",
   "language": "python",
   "name": "python3"
  },
  "language_info": {
   "codemirror_mode": {
    "name": "ipython",
    "version": 3
   },
   "file_extension": ".py",
   "mimetype": "text/x-python",
   "name": "python",
   "nbconvert_exporter": "python",
   "pygments_lexer": "ipython3",
   "version": "3.11.9"
  }
 },
 "nbformat": 4,
 "nbformat_minor": 2
}
